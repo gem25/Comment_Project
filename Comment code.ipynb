{
 "cells": [
  {
   "cell_type": "markdown",
   "metadata": {
    "collapsed": false
   },
   "source": [
    "# Teacher Comment Generator"
   ]
  },
  {
   "cell_type": "markdown",
   "metadata": {
    "collapsed": false
   },
   "source": [
    "## To do:"
   ]
  },
  {
   "cell_type": "code",
   "execution_count": 9,
   "metadata": {
    "collapsed": false
   },
   "outputs": [
   ],
   "source": [
    "#grade, test pass or fail \n",
    "#progress tracker\n",
    "#attributes\n",
    "#summary of key exams\n",
    "#suggestions to what to improve on\n",
    "\n",
    "#main"
   ]
  },
  {
   "cell_type": "markdown",
   "metadata": {
    "collapsed": false
   },
   "source": [
    "## Conferences Info Import"
   ]
  },
  {
   "cell_type": "code",
   "execution_count": 35,
   "metadata": {
    "collapsed": false
   },
   "outputs": [
   ],
   "source": [
    "import csv\n",
    "conferences = []\n",
    "\n",
    "with open('teacher_comments.csv') as csvfile:\n",
    "    data = csv.reader(csvfile, delimiter=',')\n",
    "    header = csvfile.readline().split(',')\n",
    "    for row in data:\n",
    "            conferences.append(row)"
   ]
  },
  {
   "cell_type": "code",
   "execution_count": 36,
   "metadata": {
    "collapsed": false
   },
   "outputs": [
    {
     "name": "stdout",
     "output_type": "stream",
     "text": [
      "['Student (first_name)', 'Student (last_name)', 'Pronoun (first person)', 'Pronoun (third person)', 'Class', 'Test 1', 'Test 2', 'Test 3', 'Midterm/Final', 'Participation', 'Asks for help? (Y/N)', 'Student attribute 1', 'Student attribute 2', 'Student attribute 3\\n']\n"
     ]
    }
   ],
   "source": [
    "print(header)"
   ]
  },
  {
   "cell_type": "markdown",
   "metadata": {
    "collapsed": false
   },
   "source": [
    "## Separate Comment Components:"
   ]
  },
  {
   "cell_type": "markdown",
   "metadata": {
    "collapsed": false
   },
   "source": [
    "### Course Description"
   ]
  },
  {
   "cell_type": "code",
   "execution_count": 4,
   "metadata": {
    "collapsed": false
   },
   "outputs": [
    {
     "data": {
      "text/plain": [
       "'这个学期我们学了更难的东西。我们学了学校，汽车，还有电脑的汉子。我们也复习了不同的词语。We learned more difficult vocabulary this semester. Our vocabulary units included school, cars, and computers. We also reviewed some common grammar concepts. '"
      ]
     },
     "execution_count": 4,
     "metadata": {
     },
     "output_type": "execute_result"
    }
   ],
   "source": [
    "#gives a description of the course\n",
    "def course_description(course):\n",
    "    '''Provides a class description for the relevant course.'''\n",
    "    description_list = []\n",
    "    intro = ''\n",
    "    if course == 'Calculus AB':\n",
    "        intro += \"This semester in AP AB Calculus, we covered the topics of limits, continuity, and differentiation and began the study of integration, which we will continue into the second semester. In addition to daily homework and frequent quizzes, we had three in-class unit tests, a cumulative final exam, and two projects, one on predicting stock prices using derivatives and one on modeling fluid flow using related rates and Torricelli’s Law.\"\n",
    "    if course == 'Chinese II':\n",
    "        intro += '这个学期我们学了更难的东西。我们学了学校，汽车，还有电脑的汉子。我们也复习了不同的词语。We learned more difficult vocabulary this semester. Our vocabulary units included school, cars, and computers. We also reviewed some common grammar concepts. '\n",
    "    return intro\n",
    "course_description('Chinese II')"
   ]
  },
  {
   "cell_type": "markdown",
   "metadata": {
    "collapsed": false
   },
   "source": [
    "### Student Attributes"
   ]
  },
  {
   "cell_type": "code",
   "execution_count": 5,
   "metadata": {
    "collapsed": false
   },
   "outputs": [
    {
     "data": {
      "text/plain": [
       "'You were a dependent student, which is totally okay as we are studying very challenging topics, so it is natural to not understand things. Continue to ask for help where you need it. You were a very communicative student, which I appreciated very much. If you did have any issues or difficulties, you would not hestitate to reach out to me or ask a fellow student. I enjoyed your sense of humour and positive in my class. I felt it really made a positive difference every day. '"
      ]
     },
     "execution_count": 5,
     "metadata": {
     },
     "output_type": "execute_result"
    }
   ],
   "source": [
    "#gives a description of the student based upon the attributes given for said student\n",
    "def attributes(attribute_list):\n",
    "    '''Returns a description of the student based upon at most three attributes given for said student.'''\n",
    "    attribute = ''\n",
    "    for row in attribute_list:\n",
    "        if row == 'hard worker':\n",
    "            attribute = 'You were a very hard worker this semester. You always tried to get everything done, no matter how long the assignment was. '\n",
    "        if row == 'communicative':\n",
    "            attribute += 'You were a very communicative student, which I appreciated very much. If you did have any issues or difficulties, you would not hestitate to reach out to me or ask a fellow student. '\n",
    "        if row == 'slow paced learner':\n",
    "            attribute += 'You did have some difficulty understanding some of the concepts, and I could tell you struggled with some of the assignments. Good job persevering through all the challenges. '\n",
    "            if 'communicative' in row:\n",
    "                attribute += 'You did communicate with me, though, which definitely helped your understanding of all the concepts. '\n",
    "            else:\n",
    "                attribute += 'I would recommend you meet with me more. That way I could help explain and guide you through some of the tough areas. '\n",
    "        if row == 'humorous':\n",
    "            attribute += 'I enjoyed your sense of humour and positive in my class. I felt it really made a positive difference every day. '\n",
    "        if row == 'independent':\n",
    "            attribute += \"An attribute that I noticed in you was your independence. Not having to rely on others can be a useful skill, but don't hestitate to reach out to me or any of your friends if you ever have any questions or concerns.\"\n",
    "        if row == 'fast paced learner':\n",
    "            attribute += 'You learned and worked at a faster pace than some of the other students, which is totally okay. '\n",
    "            if row[10] == 'N':\n",
    "                'If you do ever have any questions, I am open C and D block, as well as office hours and sometimes after school.'\n",
    "        if row == 'dependent':\n",
    "            attribute += 'You were a dependent student, which is totally okay as we are studying very challenging topics, so it is natural to not understand things. Continue to ask for help where you need it. '\n",
    "    return attribute\n",
    "\n",
    "attributes(['dependent', 'communicative', 'humorous'])"
   ]
  },
  {
   "cell_type": "markdown",
   "metadata": {
    "collapsed": false
   },
   "source": [
    "### Grade Average"
   ]
  },
  {
   "cell_type": "code",
   "execution_count": 37,
   "metadata": {
    "collapsed": false
   },
   "outputs": [
    {
     "data": {
      "text/plain": [
       "65"
      ]
     },
     "execution_count": 37,
     "metadata": {
     },
     "output_type": "execute_result"
    }
   ],
   "source": [
    "# averages the total grades\n",
    "def grade_avg(grade_list):\n",
    "    '''Returns an average total grade based upon given scores.'''\n",
    "#     num_grades = []\n",
    "#     letter_grades = []\n",
    "    test_grade = (int(grade_list[0]) + int(grade_list[1]) + int(grade_list[2]))/3\n",
    "    participation_grade = int(grade_list[3])\n",
    "    midterm = int(grade_list[4])\n",
    "    total_grade = (test_grade + participation_grade + midterm)/3\n",
    "    if total_grade != int(total_grade):\n",
    "        total_grade = int(total_grade)\n",
    "    return total_grade\n",
    "\n",
    "grade_avg([99, 99, 88, 45, 56])"
   ]
  },
  {
   "cell_type": "markdown",
   "metadata": {
    "collapsed": false
   },
   "source": [
    "### Participation"
   ]
  },
  {
   "cell_type": "code",
   "execution_count": 48,
   "metadata": {
    "collapsed": false
   },
   "outputs": [
    {
     "data": {
      "text/plain": [
       "'Your participation this semester was good, but there is room for improvement. You tried to do most of the assignments and engage in class, and you would usually work well with your classmates and with me. I want you to try and turn in every assignment I give you and ask any questions you have during class time. Your participation grade this semester is 69%. '"
      ]
     },
     "execution_count": 48,
     "metadata": {
     },
     "output_type": "execute_result"
    }
   ],
   "source": [
    "#gives a description of their participation\n",
    "def participation(grade):\n",
    "    '''Returns a description of the student's class participation.'''\n",
    "    if grade < 60:\n",
    "        participation_comment = f\"You struggled to engage in class this semester. You frequently missed assignments and did not engage in class activities. You also didn't communicate with me, nor did you work well with your fellow classmates. I encourage you to try and get things turned in to me more often, and I want you to meet with me if you have any questions and aim to talk in class at least once per class. Your participation grade in class this semester is {grade}%. \"\n",
    "    if 60 <= grade < 80:\n",
    "        participation_comment = f\"Your participation this semester was good, but there is room for improvement. You tried to do most of the assignments and engage in class, and you would usually work well with your classmates and with me. I want you to try and turn in every assignment I give you and ask any questions you have during class time. Your participation grade this semester is {grade}%. \"\n",
    "    if grade >= 80:\n",
    "        participation_comment = f\"Your participation this semester was admirable. You tried your hardest to complete every assignment I assigned, even if it was particularly challenging. During class, you would not hestitate to contribute to discussions or ask questions. Your participation grade this semester is {grade}%. \"\n",
    "    return participation_comment\n",
    "participation(69)"
   ]
  },
  {
   "cell_type": "markdown",
   "metadata": {
    "collapsed": false
   },
   "source": [
    "### Grade Trends"
   ]
  },
  {
   "cell_type": "code",
   "execution_count": 38,
   "metadata": {
    "collapsed": false
   },
   "outputs": [
    {
     "data": {
      "text/plain": [
       "\"You showed a partial growth in your exam scores. You scored 85.8% on average. Though the score did not reflect how you improved very much, your test scores show that you were improving each time. You also utilized office hour effectively. Thus, you have received A-'s on your exams, including the test you scored 99%.\""
      ]
     },
     "execution_count": 38,
     "metadata": {
     },
     "output_type": "execute_result"
    }
   ],
   "source": [
    "def grade_trends(grades):\n",
    "    '''Returns a description of the student's grade trend based on he or her 4 exams.'''\n",
    "    grow = \"You faithfully completed the exams and fully engaged in the preparation of the exam. As a result of your hard work, your average score of the exams was \" + str(sum(grades)/len(grades)) + \"%. This score showed a professional understanding of the contents; thus you have received A's on most tests, including the test you scored \"+ str(max(grades))+\"%.\"\n",
    "    improve = \"You have a bit more difficulty on your performance of in-class exams; you have recieved B range score in most tests, including an \" + str(grades[-1]) +\"% of your final exam. I would encourage you to see me before the test to be more prepared for the tests, using office-hours. I can help you to understand the content in a deeper level. Although your average score was \" + str(sum(grades)/len(grades)) +\"%, I think with some extra help, you can improve your grade, and your understanding of the course material.\"\n",
    "    partialgrow = \"You showed a partial growth in your exam scores. You scored\" + \" \"+ str(sum(grades)/len(grades)) + \"% on average. Though the score did not reflect how you improved very much, your test scores show that you were improving each time. You also utilized office hour effectively. Thus, you have received A-'s on your exams, including the test you scored\" + \" \"+ str(max(grades))+ \"%.\"\n",
    "\n",
    "    work = grow\n",
    "    if sum(grades)/len(grades) > 80:\n",
    "        work = grow\n",
    "        if grades[4] < grades[1] or grades[4] < grades[2] or grades[4] < grades[3]:\n",
    "            work = partialgrow\n",
    "\n",
    "    else:\n",
    "        work = improve\n",
    "\n",
    "    return work\n",
    "\n",
    "grade_trends([99, 87, 97, 90, 56])"
   ]
  },
  {
   "cell_type": "markdown",
   "metadata": {
    "collapsed": false
   },
   "source": [
    "### Student Feedback"
   ]
  },
  {
   "cell_type": "code",
   "execution_count": 9,
   "metadata": {
    "collapsed": false
   },
   "outputs": [
    {
     "name": "stdout",
     "output_type": "stream",
     "text": [
      "I want you to keep being communicative with me. I appreciate how you reach out to me if you have any questions or concerns. It is very important as a student to always be clear with your teacher and know everything that is going on. Please keep up the positive energy you bring to class each day. Your bright mood and humour really do lighten up everybody's day.I suggest collaborating with both me and your classmates more. Working with someone else can help you understand the concept a different way and/or find easier ways to do something, especially if you are struggling with some of the concepts we are working on. \n"
     ]
    }
   ],
   "source": [
    "#gives feedback based upon the information given for each student\n",
    "def suggestions(info_list):\n",
    "    '''Gives feedback based upon the information previously provided for a given student.'''\n",
    "    suggestion = ''\n",
    "    if 'hard worker' in info_list:\n",
    "        suggestion += 'Please maintain the same level of effort you are putting into this class! I can tell you are a very hard worker, and this is a trait that will help you both in this class and any future endeavours.'\n",
    "    if 'communicative':\n",
    "        suggestion += 'I want you to keep being communicative with me. I appreciate how you reach out to me if you have any questions or concerns. It is very important as a student to always be clear with your teacher and know everything that is going on. '\n",
    "    if 'slow paced learner' in info_list:\n",
    "        suggestion += \"Just because you had a hard time grasping some of the subjects, don't get discouraged! The things we are learning are very challenging. I want you to keep trying with everything, and if you have any questions, remember, I'm (almost) always available!\"\n",
    "    if 'humorous' in info_list:\n",
    "        suggestion += \"Please keep up the positive energy you bring to class each day. Your bright mood and humour really do lighten up everybody's day.\"\n",
    "    if 'independent' in info_list:\n",
    "        suggestion += 'I suggest collaborating with both me and your classmates more. Working with someone else can help you understand the concept a different way and/or find easier ways to do something, especially if you are struggling with some of the concepts we are working on. '\n",
    "    if 'fast paced learner' in info_list:\n",
    "        suggestion += \"I'm glad you have been understanding the topics so well. If you continue to quickly learn the class material, that is great, but if you find some of the things we do more challenging, don't be discouraged. \"\n",
    "    if 'dependent' in info_list:\n",
    "        suggestion += 'You should continue seeking help like you do. I would recommend you try to tackle more of your challenges on your own before you seek help. '\n",
    "    print(suggestion)\n",
    "suggestions(['Ida', 'Maple', 'she', 'her', 'Calculus AB', '81', '83', '85', '87', '90', 'N', 'independent', 'humorous', 'kind'])"
   ]
  },
  {
   "cell_type": "markdown",
   "metadata": {
    "collapsed": false
   },
   "source": [
    "### End of Comment"
   ]
  },
  {
   "cell_type": "code",
   "execution_count": 39,
   "metadata": {
    "collapsed": false
   },
   "outputs": [
   ],
   "source": [
    "def comment_end(name, grades, course):\n",
    "    text = ''\n",
    "    grade = sum(grades)/len(grades)\n",
    "    if course == 'Calculus AB':\n",
    "        text += f'The jump in difficulty level from precalculus to AP Calculus is significant, and you have excelled with this increased challenge. You have earned an {grade} for the semester and I look forward to your continued success during the remainder of the year.'\n",
    "    if course == 'Chinese II':\n",
    "        text += f'The jump in difficulty level from Chinese I to Chinese II is significant, and you have excelled with this increased challenge. You have earned an {grade} for the semester and I look forward to your continued success during the remainder of the year.'\n",
    "\n",
    "    return text"
   ]
  },
  {
   "cell_type": "markdown",
   "metadata": {
    "collapsed": false
   },
   "source": [
    "## Comment Generator and Printer:"
   ]
  },
  {
   "cell_type": "code",
   "execution_count": 50,
   "metadata": {
    "collapsed": false
   },
   "outputs": [
   ],
   "source": [
    "def comment_printer(student_info):\n",
    "    '''Prints the comment for students in a given conference information list.'''\n",
    "    text = ''\n",
    "    course = student_info[4]\n",
    "    grades = [int(student_info[5]), int(student_info[6]), int(student_info[7]), int(student_info[8]), int(student_info[9])]\n",
    "    first_name = student_info[0]\n",
    "    attribute_list = student_info[11:13]\n",
    "    # Name\n",
    "    text += f\"*** {student_info[0]} {student_info[1]} ***\\n\\n\"\n",
    "    # Course description\n",
    "    text += f\"{course_description(course)}\\n\\n\"\n",
    "    # Grade trends\n",
    "    text += f\"{grade_trends(grades)} {participation(int(student_info[9]))}\\n\\n\"\n",
    "    # Personal attributes\n",
    "    text += f\"{attributes(attribute_list)}\\n\\n\"\n",
    "    # End of comment\n",
    "    text += f\"{comment_end(first_name, grades, course)}\\n\\n\"\n",
    "    text += '-----------------------------------------------------------------------------------------------'\n",
    "    print(text)"
   ]
  },
  {
   "cell_type": "code",
   "execution_count": 54,
   "metadata": {
    "collapsed": false
   },
   "outputs": [
   ],
   "source": [
    "# Generates a text file for a given student\n",
    "def comment_generator(student_info):\n",
    "    '''Generates a personalized comment for a given student.'''\n",
    "    txtfile = f\"Students/{student_info[0]}.txt\"\n",
    "    with open(txtfile, 'w') as fout:\n",
    "        course = student_info[4]\n",
    "        grades = [int(student_info[5]), int(student_info[6]), int(student_info[7]), int(student_info[8]), int(student_info[9])]\n",
    "        first_name = student_info[0]\n",
    "        attribute_list = student_info[11:13]\n",
    "        fout.write(f\"*** {student_info[0]} {student_info[1]} ***\\n\\n\")\n",
    "        fout.write(course_description(course) + '\\n' + '\\n')\n",
    "        fout.write(grade_trends(grades) + participation(int(student_info[9])) + '\\n' + '\\n')\n",
    "        fout.write(attributes(attribute_list) + '\\n' + '\\n')\n",
    "        fout.write(comment_end(first_name, grades, course))"
   ]
  },
  {
   "cell_type": "code",
   "execution_count": 55,
   "metadata": {
    "collapsed": false
   },
   "outputs": [
   ],
   "source": [
    "# Generates a text file comment for each student\n",
    "for student in conferences:\n",
    "    comment_generator(student)"
   ]
  },
  {
   "cell_type": "code",
   "execution_count": 52,
   "metadata": {
    "collapsed": false
   },
   "outputs": [
    {
     "name": "stdout",
     "output_type": "stream",
     "text": [
      "*** Ally Wood ***\n",
      "\n",
      "This semester in AP AB Calculus, we covered the topics of limits, continuity, and differentiation and began the study of integration, which we will continue into the second semester. In addition to daily homework and frequent quizzes, we had three in-class unit tests, a cumulative final exam, and two projects, one on predicting stock prices using derivatives and one on modeling fluid flow using related rates and Torricelli’s Law.\n",
      "\n",
      "You showed a partial growth in your exam scores. You scored 89.4% on average. Though the score did not reflect how you improved very much, your test scores show that you were improving each time. You also utilized office hour effectively. Thus, you have received A-'s on your exams, including the test you scored 93%. Your participation this semester was admirable. You tried your hardest to complete every assignment I assigned, even if it was particularly challenging. During class, you would not hestitate to contribute to discussions or ask questions. Your participation grade this semester is 92%. \n",
      "\n",
      "You were a very hard worker this semester. You always tried to get everything done, no matter how long the assignment was. You were a very communicative student, which I appreciated very much. If you did have any issues or difficulties, you would not hestitate to reach out to me or ask a fellow student. \n",
      "\n",
      "The jump in difficulty level from precalculus to AP Calculus is significant, and you have excelled with this increased challenge. You have earned an 89.4 for the semester and I look forward to your continued success during the remainder of the year.\n",
      "\n",
      "-----------------------------------------------------------------------------------------------\n",
      "*** Joe Leaf ***\n",
      "\n",
      "This semester in AP AB Calculus, we covered the topics of limits, continuity, and differentiation and began the study of integration, which we will continue into the second semester. In addition to daily homework and frequent quizzes, we had three in-class unit tests, a cumulative final exam, and two projects, one on predicting stock prices using derivatives and one on modeling fluid flow using related rates and Torricelli’s Law.\n",
      "\n",
      "You faithfully completed the exams and fully engaged in the preparation of the exam. As a result of your hard work, your average score of the exams was 88.6%. This score showed a professional understanding of the contents; thus you have received A's on most tests, including the test you scored 100%. Your participation this semester was admirable. You tried your hardest to complete every assignment I assigned, even if it was particularly challenging. During class, you would not hestitate to contribute to discussions or ask questions. Your participation grade this semester is 99%. \n",
      "\n",
      "I enjoyed your sense of humour and positive in my class. I felt it really made a positive difference every day. An attribute that I noticed in you was your independence. Not having to rely on others can be a useful skill, but don't hestitate to reach out to me or any of your friends if you ever have any questions or concerns.\n",
      "\n",
      "The jump in difficulty level from precalculus to AP Calculus is significant, and you have excelled with this increased challenge. You have earned an 88.6 for the semester and I look forward to your continued success during the remainder of the year.\n",
      "\n",
      "-----------------------------------------------------------------------------------------------\n",
      "*** Sarah Tree ***\n",
      "\n",
      "This semester in AP AB Calculus, we covered the topics of limits, continuity, and differentiation and began the study of integration, which we will continue into the second semester. In addition to daily homework and frequent quizzes, we had three in-class unit tests, a cumulative final exam, and two projects, one on predicting stock prices using derivatives and one on modeling fluid flow using related rates and Torricelli’s Law.\n",
      "\n",
      "You faithfully completed the exams and fully engaged in the preparation of the exam. As a result of your hard work, your average score of the exams was 88.2%. This score showed a professional understanding of the contents; thus you have received A's on most tests, including the test you scored 97%. Your participation this semester was admirable. You tried your hardest to complete every assignment I assigned, even if it was particularly challenging. During class, you would not hestitate to contribute to discussions or ask questions. Your participation grade this semester is 97%. \n",
      "\n",
      "You were a very hard worker this semester. You always tried to get everything done, no matter how long the assignment was. You did have some difficulty understanding some of the concepts, and I could tell you struggled with some of the assignments. Good job persevering through all the challenges. I would recommend you meet with me more. That way I could help explain and guide you through some of the tough areas. \n",
      "\n",
      "The jump in difficulty level from precalculus to AP Calculus is significant, and you have excelled with this increased challenge. You have earned an 88.2 for the semester and I look forward to your continued success during the remainder of the year.\n",
      "\n",
      "-----------------------------------------------------------------------------------------------\n",
      "*** Ida Maple ***\n",
      "\n",
      "This semester in AP AB Calculus, we covered the topics of limits, continuity, and differentiation and began the study of integration, which we will continue into the second semester. In addition to daily homework and frequent quizzes, we had three in-class unit tests, a cumulative final exam, and two projects, one on predicting stock prices using derivatives and one on modeling fluid flow using related rates and Torricelli’s Law.\n",
      "\n",
      "You faithfully completed the exams and fully engaged in the preparation of the exam. As a result of your hard work, your average score of the exams was 85.2%. This score showed a professional understanding of the contents; thus you have received A's on most tests, including the test you scored 90%. Your participation this semester was admirable. You tried your hardest to complete every assignment I assigned, even if it was particularly challenging. During class, you would not hestitate to contribute to discussions or ask questions. Your participation grade this semester is 90%. \n",
      "\n",
      "An attribute that I noticed in you was your independence. Not having to rely on others can be a useful skill, but don't hestitate to reach out to me or any of your friends if you ever have any questions or concerns.I enjoyed your sense of humour and positive in my class. I felt it really made a positive difference every day. \n",
      "\n",
      "The jump in difficulty level from precalculus to AP Calculus is significant, and you have excelled with this increased challenge. You have earned an 85.2 for the semester and I look forward to your continued success during the remainder of the year.\n",
      "\n",
      "-----------------------------------------------------------------------------------------------\n",
      "*** Alex Holland ***\n",
      "\n",
      "这个学期我们学了更难的东西。我们学了学校，汽车，还有电脑的汉子。我们也复习了不同的词语。We learned more difficult vocabulary this semester. Our vocabulary units included school, cars, and computers. We also reviewed some common grammar concepts. \n",
      "\n",
      "You have a bit more difficulty on your performance of in-class exams; you have recieved B range score in most tests, including an 56% of your final exam. I would encourage you to see me before the test to be more prepared for the tests, using office-hours. I can help you to understand the content in a deeper level. Although your average score was 77.4%, I think with some extra help, you can improve your grade, and your understanding of the course material. You struggled to engage in class this semester. You frequently missed assignments and did not engage in class activities. You also didn't communicate with me, nor did you work well with your fellow classmates. I encourage you to try and get things turned in to me more often, and I want you to meet with me if you have any questions and aim to talk in class at least once per class. Your participation grade in class this semester is 56%. \n",
      "\n",
      "You did have some difficulty understanding some of the concepts, and I could tell you struggled with some of the assignments. Good job persevering through all the challenges. I would recommend you meet with me more. That way I could help explain and guide you through some of the tough areas. \n",
      "\n",
      "The jump in difficulty level from Chinese I to Chinese II is significant, and you have excelled with this increased challenge. You have earned an 77.4 for the semester and I look forward to your continued success during the remainder of the year.\n",
      "\n",
      "-----------------------------------------------------------------------------------------------\n"
     ]
    }
   ],
   "source": [
    "# Prints a comment for each student\n",
    "for student in conferences:\n",
    "    comment_printer(student)"
   ]
  },
  {
   "cell_type": "code",
   "execution_count": 0,
   "metadata": {
    "collapsed": false
   },
   "outputs": [
   ],
   "source": [
    "#      :U =P :) :> :] :[ :( ;0 =) :P"
   ]
  }
 ],
 "metadata": {
  "kernelspec": {
   "display_name": "Python 3 (system-wide)",
   "language": "python",
   "metadata": {
    "cocalc": {
     "description": "Python 3 programming language",
     "priority": 100,
     "url": "https://www.python.org/"
    }
   },
   "name": "python3",
   "resource_dir": "/ext/jupyter/kernels/python3"
  },
  "language_info": {
   "codemirror_mode": {
    "name": "ipython",
    "version": 3
   },
   "file_extension": ".py",
   "mimetype": "text/x-python",
   "name": "python",
   "nbconvert_exporter": "python",
   "pygments_lexer": "ipython3",
   "version": "3.8.5"
  }
 },
 "nbformat": 4,
 "nbformat_minor": 4
}